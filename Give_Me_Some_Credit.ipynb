{
  "nbformat": 4,
  "nbformat_minor": 0,
  "metadata": {
    "colab": {
      "provenance": [],
      "toc_visible": true
    },
    "kernelspec": {
      "name": "python3",
      "display_name": "Python 3"
    },
    "language_info": {
      "name": "python"
    }
  },
  "cells": [
    {
      "cell_type": "markdown",
      "source": [
        "Load CSVs and Fill Missing Values"
      ],
      "metadata": {
        "id": "vOzF1mSsrW9Q"
      }
    },
    {
      "cell_type": "code",
      "source": [
        "import pandas as pd\n",
        "from sklearn.ensemble import RandomForestClassifier\n",
        "\n",
        "# Load CSVs\n",
        "train_df = pd.read_csv(\"cs-training.csv\")\n",
        "test_df = pd.read_csv(\"cs-test.csv\")\n",
        "\n",
        "# Fill missing values\n",
        "train_df = train_df.fillna(train_df.median())\n",
        "test_df = test_df.fillna(test_df.median())\n"
      ],
      "metadata": {
        "id": "Eew343xipusL"
      },
      "execution_count": 15,
      "outputs": []
    },
    {
      "cell_type": "markdown",
      "source": [
        "Prepare the Training Data"
      ],
      "metadata": {
        "id": "UQu78yPCriAS"
      }
    },
    {
      "cell_type": "code",
      "source": [
        "X_train = train_df.drop(['Unnamed: 0', 'SeriousDlqin2yrs'], axis=1)\n",
        "y_train = train_df['SeriousDlqin2yrs']"
      ],
      "metadata": {
        "id": "At9ZreJJp2vE"
      },
      "execution_count": 16,
      "outputs": []
    },
    {
      "cell_type": "markdown",
      "source": [
        "Prepare the test data: Dropping empty columns"
      ],
      "metadata": {
        "id": "w0oaYHaprusm"
      }
    },
    {
      "cell_type": "code",
      "source": [
        "X_test = test_df.drop(['Unnamed: 0', 'SeriousDlqin2yrs'], axis=1, errors='ignore')"
      ],
      "metadata": {
        "id": "coV7hkSpp6J7"
      },
      "execution_count": 17,
      "outputs": []
    },
    {
      "cell_type": "markdown",
      "source": [
        "Training and Predicting"
      ],
      "metadata": {
        "id": "9Pqdk5G_r0oC"
      }
    },
    {
      "cell_type": "code",
      "source": [
        "from sklearn.model_selection import train_test_split\n",
        "from sklearn.metrics import classification_report, confusion_matrix, roc_auc_score\n",
        "\n",
        "# Split training data into train and validation sets\n",
        "X = train_df.drop(['Unnamed: 0', 'SeriousDlqin2yrs'], axis=1)\n",
        "y = train_df['SeriousDlqin2yrs']\n",
        "\n",
        "X_train, X_val, y_train, y_val = train_test_split(\n",
        "    X, y, test_size=0.2, random_state=42, stratify=y\n",
        ")\n",
        "\n",
        "# Train model on training split\n",
        "model = RandomForestClassifier(n_estimators=100, random_state=42)\n",
        "model.fit(X_train, y_train)\n",
        "\n",
        "# Evaluate on validation set\n",
        "y_val_pred = model.predict(X_val)\n",
        "y_val_proba = model.predict_proba(X_val)[:, 1]\n",
        "\n",
        "print(\"Evaluation on Validation Set:\")\n",
        "print(\"Confusion Matrix:\\n\", confusion_matrix(y_val, y_val_pred))\n",
        "print(\"\\nClassification Report:\\n\", classification_report(y_val, y_val_pred))\n",
        "print(\"ROC AUC Score:\", roc_auc_score(y_val, y_val_proba))\n"
      ],
      "metadata": {
        "colab": {
          "base_uri": "https://localhost:8080/"
        },
        "id": "qZkYdsO1qYvx",
        "outputId": "8ba2dcbb-b161-4387-f7f4-816f4e0a2b1a"
      },
      "execution_count": 21,
      "outputs": [
        {
          "output_type": "stream",
          "name": "stdout",
          "text": [
            "Evaluation on Validation Set:\n",
            "Confusion Matrix:\n",
            " [[27718   277]\n",
            " [ 1629   376]]\n",
            "\n",
            "Classification Report:\n",
            "               precision    recall  f1-score   support\n",
            "\n",
            "           0       0.94      0.99      0.97     27995\n",
            "           1       0.58      0.19      0.28      2005\n",
            "\n",
            "    accuracy                           0.94     30000\n",
            "   macro avg       0.76      0.59      0.62     30000\n",
            "weighted avg       0.92      0.94      0.92     30000\n",
            "\n",
            "ROC AUC Score: 0.8415317395028238\n"
          ]
        }
      ]
    },
    {
      "cell_type": "code",
      "source": [
        "# Predict on test data (which has no labels)\n",
        "X_test = test_df.drop(['Unnamed: 0', 'SeriousDlqin2yrs'], axis=1, errors='ignore')\n",
        "\n",
        "y_test_pred = model.predict(X_test)\n",
        "y_test_proba = model.predict_proba(X_test)[:, 1]"
      ],
      "metadata": {
        "id": "o1F5iI4lp8nK"
      },
      "execution_count": 22,
      "outputs": []
    }
  ]
}